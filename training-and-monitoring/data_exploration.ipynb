{
 "cells": [
  {
   "cell_type": "code",
   "execution_count": 1,
   "metadata": {},
   "outputs": [],
   "source": [
    "import os\n",
    "from datetime import datetime\n",
    "\n",
    "import haversine as hs\n",
    "import matplotlib\n",
    "import matplotlib.pyplot as plt\n",
    "import numpy as np\n",
    "import pandas as pd\n",
    "from sklearn.ensemble import RandomForestRegressor\n",
    "from sklearn.feature_extraction import DictVectorizer\n",
    "from sklearn.metrics import mean_squared_error\n",
    "from sklearn.pipeline import Pipeline\n",
    "from sklearn.preprocessing import StandardScaler\n"
   ]
  },
  {
   "cell_type": "code",
   "execution_count": 2,
   "metadata": {},
   "outputs": [],
   "source": [
    "# Data paths\n",
    "train_data_path = os.getcwd() + \"/../datasets/202203-capitalbikeshare-tripdata.csv\"\n",
    "validation_data_path = os.getcwd() + \"/../datasets/202204-capitalbikeshare-tripdata.csv\"\n",
    "testing_data_path = os.getcwd() + \"/../datasets/202205-capitalbikeshare-tripdata.csv\""
   ]
  },
  {
   "cell_type": "code",
   "execution_count": 5,
   "metadata": {},
   "outputs": [],
   "source": [
    "# Read and process data\n",
    "\n",
    "# Distance calculation method\n",
    "def get_distance_kilometres(start_lat, start_lon, end_lat, end_lon):\n",
    "    \"\"\"Calculate distance in kilometres\"\"\"\n",
    "\n",
    "    start_loc=(start_lat, start_lon)\n",
    "    end_loc=(end_lat, end_lon)\n",
    "    return hs.haversine(start_loc, end_loc, unit=hs.Unit.KILOMETERS)\n",
    "\n",
    "# Process data\n",
    "def process_data(df):\n",
    "    \"\"\"Creating new features\"\"\"\n",
    "\n",
    "\n",
    "    data = df.copy()\n",
    "    date_fields = [\"started_at\", \"ended_at\"]\n",
    "    for cols in date_fields:\n",
    "        if data[cols].dtype == 'O': \n",
    "            data[cols] = [datetime.strptime(val, '%Y-%m-%d %H:%M:%S') for val in data[cols]]\n",
    "    data[\"duration\"] = (data[\"ended_at\"] - data[\"started_at\"]).apply(lambda x: x.total_seconds()/60)\n",
    "    data = data[(data[\"duration\"] > 0) & (data[\"duration\"] <= 120)].dropna(axis=0).copy()\n",
    "    data[\"distance\"] = [get_distance_kilometres(start_lat, start_lng, end_lat, end_lng)\n",
    "                        for start_lat, start_lng, end_lat, end_lng in \n",
    "                        zip(data[\"start_lat\"], data[\"start_lng\"], data[\"end_lat\"], data[\"end_lng\"])]\n",
    "    data[\"SL_EL\"] = data[\"start_station_id\"].astype(int).astype(str) + \"_\" + data[\"end_station_id\"].astype(int).astype(str)\n",
    "    data[\"start_hour\"] = data[\"started_at\"].dt.hour\n",
    "    data[\"day_of_week\"] = data[\"started_at\"].dt.day_name()\n",
    "    return data\n",
    "\n",
    "\n",
    "# Read and processing\n",
    "\n",
    "def read_and_process(filepath: str=\"\") -> pd.DataFrame:\n",
    "    \"\"\"Function to read and process data\"\"\"\n",
    "\n",
    "    data = pd.read_csv(filepath_or_buffer=filepath)\n",
    "    processed_data = process_data(data)\n",
    "\n",
    "    return processed_data\n",
    "\n"
   ]
  },
  {
   "cell_type": "code",
   "execution_count": 6,
   "metadata": {},
   "outputs": [],
   "source": [
    "# Training , validation and testing processed data\n",
    "train_data = read_and_process(filepath=train_data_path)\n",
    "valid_data = read_and_process(filepath=validation_data_path)\n",
    "test_data = read_and_process(filepath=testing_data_path)"
   ]
  },
  {
   "cell_type": "code",
   "execution_count": 12,
   "metadata": {},
   "outputs": [],
   "source": [
    "# Feature and target\n",
    "feature_cols = [\"rideable_type\", \"distance\", \"member_casual\", \"SL_EL\", \"day_of_week\", \"start_hour\"]\n",
    "target = \"duration\"\n",
    "\n",
    "# Training data\n",
    "X_train = train_data[feature_cols]\n",
    "y_train = train_data[target]\n",
    "\n",
    "# Validation data\n",
    "\n",
    "X_val = valid_data[feature_cols]\n",
    "y_val = valid_data[target]\n",
    "\n",
    "# Testing data\n",
    "X_test = test_data[feature_cols]\n",
    "y_test = test_data[target]"
   ]
  },
  {
   "cell_type": "code",
   "execution_count": 13,
   "metadata": {},
   "outputs": [],
   "source": [
    "# Creating sklearn pipeline\n",
    "pipeline = Pipeline(\n",
    "    steps=[\n",
    "        (\"dict_vectorizor\", DictVectorizer()),\n",
    "        (\"scaler\", StandardScaler(with_mean=False)),\n",
    "        (\"estimator\", RandomForestRegressor(n_estimators=10, random_state=42, n_jobs=-1))\n",
    "    ]\n",
    ")"
   ]
  },
  {
   "cell_type": "code",
   "execution_count": 14,
   "metadata": {},
   "outputs": [],
   "source": [
    "# Running the model pipeline \n",
    "pipeline.fit(X_train.to_dict(orient=\"records\"), y_train)\n",
    "predict_val = pipeline.predict(X_val.to_dict(orient=\"records\"))\n",
    "predict_test = pipeline.predict(X_test.to_dict(orient=\"records\"))"
   ]
  },
  {
   "cell_type": "code",
   "execution_count": 15,
   "metadata": {},
   "outputs": [],
   "source": [
    "# Calculating the validation and testing error\n",
    "rmse_val = mean_squared_error(y_val, predict_val, squared=False)\n",
    "rmse_test = mean_squared_error(y_test, predict_test, squared=False)"
   ]
  },
  {
   "cell_type": "code",
   "execution_count": 16,
   "metadata": {},
   "outputs": [
    {
     "name": "stdout",
     "output_type": "stream",
     "text": [
      "16.273487587406777 15.923531848861435\n"
     ]
    }
   ],
   "source": [
    "# Printing the root mean square error results\n",
    "print(rmse_val, rmse_test)"
   ]
  },
  {
   "cell_type": "code",
   "execution_count": 17,
   "metadata": {},
   "outputs": [
    {
     "data": {
      "text/plain": [
       "(array([2.5280e+03, 4.2590e+03, 1.0083e+04, 1.6820e+04, 2.0278e+04,\n",
       "        2.0671e+04, 2.0870e+04, 2.0993e+04, 1.9308e+04, 1.7990e+04,\n",
       "        1.6694e+04, 1.5085e+04, 1.2740e+04, 1.1290e+04, 1.0343e+04,\n",
       "        9.3320e+03, 8.3670e+03, 7.0970e+03, 6.2390e+03, 5.5560e+03,\n",
       "        5.1480e+03, 4.3530e+03, 3.9640e+03, 3.5020e+03, 3.1530e+03,\n",
       "        2.8410e+03, 2.3930e+03, 2.1080e+03, 1.8450e+03, 1.5820e+03,\n",
       "        1.4810e+03, 1.3660e+03, 1.2660e+03, 1.1800e+03, 9.8200e+02,\n",
       "        9.1500e+02, 7.6300e+02, 8.1000e+02, 6.7200e+02, 5.8800e+02,\n",
       "        5.7300e+02, 4.7000e+02, 5.0000e+02, 5.2700e+02, 4.5900e+02,\n",
       "        4.2400e+02, 4.5900e+02, 3.7000e+02, 2.9800e+02, 2.8500e+02,\n",
       "        3.1300e+02, 2.6300e+02, 2.2900e+02, 2.2100e+02, 2.2200e+02,\n",
       "        2.2500e+02, 1.7300e+02, 1.5900e+02, 1.5600e+02, 1.7200e+02,\n",
       "        1.6700e+02, 1.4400e+02, 1.0400e+02, 1.4100e+02, 8.3000e+01,\n",
       "        1.0900e+02, 8.1000e+01, 1.1700e+02, 7.7000e+01, 6.0000e+01,\n",
       "        7.5000e+01, 7.1000e+01, 7.0000e+01, 5.7000e+01, 4.3000e+01,\n",
       "        4.6000e+01, 4.7000e+01, 3.8000e+01, 5.0000e+01, 3.8000e+01,\n",
       "        2.7000e+01, 2.6000e+01, 3.2000e+01, 2.8000e+01, 3.0000e+01,\n",
       "        2.4000e+01, 1.3000e+01, 3.8000e+01, 1.9000e+01, 1.5000e+01,\n",
       "        1.4000e+01, 2.0000e+00, 7.0000e+00, 7.0000e+00, 1.7000e+01,\n",
       "        3.0000e+00, 4.0000e+00, 2.0000e+00, 6.0000e+00, 1.4000e+01]),\n",
       " array([3.66666667e-02, 1.19715556e+00, 2.35764444e+00, 3.51813333e+00,\n",
       "        4.67862222e+00, 5.83911111e+00, 6.99960000e+00, 8.16008889e+00,\n",
       "        9.32057778e+00, 1.04810667e+01, 1.16415556e+01, 1.28020444e+01,\n",
       "        1.39625333e+01, 1.51230222e+01, 1.62835111e+01, 1.74440000e+01,\n",
       "        1.86044889e+01, 1.97649778e+01, 2.09254667e+01, 2.20859556e+01,\n",
       "        2.32464444e+01, 2.44069333e+01, 2.55674222e+01, 2.67279111e+01,\n",
       "        2.78884000e+01, 2.90488889e+01, 3.02093778e+01, 3.13698667e+01,\n",
       "        3.25303556e+01, 3.36908444e+01, 3.48513333e+01, 3.60118222e+01,\n",
       "        3.71723111e+01, 3.83328000e+01, 3.94932889e+01, 4.06537778e+01,\n",
       "        4.18142667e+01, 4.29747556e+01, 4.41352444e+01, 4.52957333e+01,\n",
       "        4.64562222e+01, 4.76167111e+01, 4.87772000e+01, 4.99376889e+01,\n",
       "        5.10981778e+01, 5.22586667e+01, 5.34191556e+01, 5.45796444e+01,\n",
       "        5.57401333e+01, 5.69006222e+01, 5.80611111e+01, 5.92216000e+01,\n",
       "        6.03820889e+01, 6.15425778e+01, 6.27030667e+01, 6.38635556e+01,\n",
       "        6.50240444e+01, 6.61845333e+01, 6.73450222e+01, 6.85055111e+01,\n",
       "        6.96660000e+01, 7.08264889e+01, 7.19869778e+01, 7.31474667e+01,\n",
       "        7.43079556e+01, 7.54684444e+01, 7.66289333e+01, 7.77894222e+01,\n",
       "        7.89499111e+01, 8.01104000e+01, 8.12708889e+01, 8.24313778e+01,\n",
       "        8.35918667e+01, 8.47523556e+01, 8.59128444e+01, 8.70733333e+01,\n",
       "        8.82338222e+01, 8.93943111e+01, 9.05548000e+01, 9.17152889e+01,\n",
       "        9.28757778e+01, 9.40362667e+01, 9.51967556e+01, 9.63572444e+01,\n",
       "        9.75177333e+01, 9.86782222e+01, 9.98387111e+01, 1.00999200e+02,\n",
       "        1.02159689e+02, 1.03320178e+02, 1.04480667e+02, 1.05641156e+02,\n",
       "        1.06801644e+02, 1.07962133e+02, 1.09122622e+02, 1.10283111e+02,\n",
       "        1.11443600e+02, 1.12604089e+02, 1.13764578e+02, 1.14925067e+02,\n",
       "        1.16085556e+02]),\n",
       " <BarContainer object of 100 artists>)"
      ]
     },
     "execution_count": 17,
     "metadata": {},
     "output_type": "execute_result"
    },
    {
     "data": {
      "image/png": "[encoded data removed]",
      "text/plain": [
       "<Figure size 1200x800 with 1 Axes>"
      ]
     },
     "metadata": {},
     "output_type": "display_data"
    }
   ],
   "source": [
    "# Plotting the results\n",
    "fig, ax = plt.subplots(figsize=(12,8))\n",
    "ax.hist(y_test, bins=100, label=\"Actual\")\n",
    "ax.hist(predict_test, bins=100, alpha=0.2, label=\"Predicted\")"
   ]
  }
 ],
 "metadata": {
  "kernelspec": {
   "display_name": "Python 3.9.12 ('model-training-zCJsbYm5')",
   "language": "python",
   "name": "python3"
  },
  "language_info": {
   "codemirror_mode": {
    "name": "ipython",
    "version": 3
   },
   "file_extension": ".py",
   "mimetype": "text/x-python",
   "name": "python",
   "nbconvert_exporter": "python",
   "pygments_lexer": "ipython3",
   "version": "3.9.12"
  },
  "orig_nbformat": 4,
  "vscode": {
   "interpreter": {
    "hash": "9bbd4690b361b31e16562ed075e457e3b939016be47fdb5b6e230703eebbe252"
   }
  }
 },
 "nbformat": 4,
 "nbformat_minor": 2
}
